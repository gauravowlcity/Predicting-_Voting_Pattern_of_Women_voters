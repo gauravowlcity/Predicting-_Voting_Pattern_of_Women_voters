{
 "cells": [
  {
   "cell_type": "code",
   "execution_count": 1,
   "metadata": {
    "collapsed": true
   },
   "outputs": [],
   "source": [
    "import numpy as np\n",
    "import pandas as pd\n",
    "%matplotlib inline\n",
    "import matplotlib.pyplot as plt\n",
    "import seaborn as sns"
   ]
  },
  {
   "cell_type": "code",
   "execution_count": 2,
   "metadata": {
    "collapsed": true
   },
   "outputs": [],
   "source": [
    "train=pd.read_csv('F:/dataquest dataset/traindata_R.csv')\n",
    "test=pd.read_csv('F:/dataquest dataset/testdata_R.csv')\n"
   ]
  },
  {
   "cell_type": "code",
   "execution_count": 3,
   "metadata": {
    "collapsed": false
   },
   "outputs": [
    {
     "data": {
      "text/html": [
       "<div>\n",
       "<table border=\"1\" class=\"dataframe\">\n",
       "  <thead>\n",
       "    <tr style=\"text-align: right;\">\n",
       "      <th></th>\n",
       "      <th>Wife_age</th>\n",
       "      <th>Wife_education</th>\n",
       "      <th>Husband_education</th>\n",
       "      <th>Number_of_children_ever_born</th>\n",
       "      <th>Wife_religion</th>\n",
       "      <th>Wife_working</th>\n",
       "      <th>Husband_occupation</th>\n",
       "      <th>Standard_of_living_index</th>\n",
       "      <th>Media_exposure</th>\n",
       "      <th>Party_voted_for</th>\n",
       "    </tr>\n",
       "  </thead>\n",
       "  <tbody>\n",
       "    <tr>\n",
       "      <th>0</th>\n",
       "      <td>24</td>\n",
       "      <td>2</td>\n",
       "      <td>3</td>\n",
       "      <td>3</td>\n",
       "      <td>1</td>\n",
       "      <td>1</td>\n",
       "      <td>2</td>\n",
       "      <td>3</td>\n",
       "      <td>0</td>\n",
       "      <td>0</td>\n",
       "    </tr>\n",
       "    <tr>\n",
       "      <th>1</th>\n",
       "      <td>43</td>\n",
       "      <td>2</td>\n",
       "      <td>3</td>\n",
       "      <td>7</td>\n",
       "      <td>1</td>\n",
       "      <td>1</td>\n",
       "      <td>3</td>\n",
       "      <td>4</td>\n",
       "      <td>0</td>\n",
       "      <td>0</td>\n",
       "    </tr>\n",
       "    <tr>\n",
       "      <th>2</th>\n",
       "      <td>36</td>\n",
       "      <td>3</td>\n",
       "      <td>3</td>\n",
       "      <td>8</td>\n",
       "      <td>1</td>\n",
       "      <td>1</td>\n",
       "      <td>3</td>\n",
       "      <td>2</td>\n",
       "      <td>0</td>\n",
       "      <td>0</td>\n",
       "    </tr>\n",
       "    <tr>\n",
       "      <th>3</th>\n",
       "      <td>19</td>\n",
       "      <td>4</td>\n",
       "      <td>4</td>\n",
       "      <td>0</td>\n",
       "      <td>1</td>\n",
       "      <td>1</td>\n",
       "      <td>3</td>\n",
       "      <td>3</td>\n",
       "      <td>0</td>\n",
       "      <td>0</td>\n",
       "    </tr>\n",
       "    <tr>\n",
       "      <th>4</th>\n",
       "      <td>38</td>\n",
       "      <td>2</td>\n",
       "      <td>3</td>\n",
       "      <td>6</td>\n",
       "      <td>1</td>\n",
       "      <td>1</td>\n",
       "      <td>3</td>\n",
       "      <td>2</td>\n",
       "      <td>0</td>\n",
       "      <td>0</td>\n",
       "    </tr>\n",
       "  </tbody>\n",
       "</table>\n",
       "</div>"
      ],
      "text/plain": [
       "   Wife_age  Wife_education  Husband_education  Number_of_children_ever_born  \\\n",
       "0        24               2                  3                             3   \n",
       "1        43               2                  3                             7   \n",
       "2        36               3                  3                             8   \n",
       "3        19               4                  4                             0   \n",
       "4        38               2                  3                             6   \n",
       "\n",
       "   Wife_religion  Wife_working  Husband_occupation  Standard_of_living_index  \\\n",
       "0              1             1                   2                         3   \n",
       "1              1             1                   3                         4   \n",
       "2              1             1                   3                         2   \n",
       "3              1             1                   3                         3   \n",
       "4              1             1                   3                         2   \n",
       "\n",
       "   Media_exposure  Party_voted_for  \n",
       "0               0                0  \n",
       "1               0                0  \n",
       "2               0                0  \n",
       "3               0                0  \n",
       "4               0                0  "
      ]
     },
     "execution_count": 3,
     "metadata": {},
     "output_type": "execute_result"
    }
   ],
   "source": [
    "train.head()"
   ]
  },
  {
   "cell_type": "code",
   "execution_count": 4,
   "metadata": {
    "collapsed": false
   },
   "outputs": [
    {
     "data": {
      "text/plain": [
       "Index(['Wife_age', 'Wife_education', 'Husband_education',\n",
       "       'Number_of_children_ever_born', 'Wife_religion', 'Wife_working',\n",
       "       'Husband_occupation', 'Standard_of_living_index', 'Media_exposure',\n",
       "       'Party_voted_for'],\n",
       "      dtype='object')"
      ]
     },
     "execution_count": 4,
     "metadata": {},
     "output_type": "execute_result"
    }
   ],
   "source": [
    "train.columns"
   ]
  },
  {
   "cell_type": "code",
   "execution_count": 5,
   "metadata": {
    "collapsed": false
   },
   "outputs": [
    {
     "data": {
      "text/html": [
       "<div>\n",
       "<table border=\"1\" class=\"dataframe\">\n",
       "  <thead>\n",
       "    <tr style=\"text-align: right;\">\n",
       "      <th>Party_voted_for</th>\n",
       "      <th>0</th>\n",
       "      <th>1</th>\n",
       "    </tr>\n",
       "    <tr>\n",
       "      <th>Standard_of_living_index</th>\n",
       "      <th></th>\n",
       "      <th></th>\n",
       "    </tr>\n",
       "  </thead>\n",
       "  <tbody>\n",
       "    <tr>\n",
       "      <th>1</th>\n",
       "      <td>45</td>\n",
       "      <td>33</td>\n",
       "    </tr>\n",
       "    <tr>\n",
       "      <th>2</th>\n",
       "      <td>89</td>\n",
       "      <td>83</td>\n",
       "    </tr>\n",
       "    <tr>\n",
       "      <th>3</th>\n",
       "      <td>130</td>\n",
       "      <td>157</td>\n",
       "    </tr>\n",
       "    <tr>\n",
       "      <th>4</th>\n",
       "      <td>158</td>\n",
       "      <td>287</td>\n",
       "    </tr>\n",
       "  </tbody>\n",
       "</table>\n",
       "</div>"
      ],
      "text/plain": [
       "Party_voted_for             0    1\n",
       "Standard_of_living_index          \n",
       "1                          45   33\n",
       "2                          89   83\n",
       "3                         130  157\n",
       "4                         158  287"
      ]
     },
     "execution_count": 5,
     "metadata": {},
     "output_type": "execute_result"
    }
   ],
   "source": [
    "pd.crosstab(train['Standard_of_living_index'],train['Party_voted_for'])"
   ]
  },
  {
   "cell_type": "code",
   "execution_count": 6,
   "metadata": {
    "collapsed": false
   },
   "outputs": [
    {
     "data": {
      "text/html": [
       "<div>\n",
       "<table border=\"1\" class=\"dataframe\">\n",
       "  <thead>\n",
       "    <tr style=\"text-align: right;\">\n",
       "      <th>Party_voted_for</th>\n",
       "      <th>0</th>\n",
       "      <th>1</th>\n",
       "    </tr>\n",
       "    <tr>\n",
       "      <th>Standard_of_living_index</th>\n",
       "      <th></th>\n",
       "      <th></th>\n",
       "    </tr>\n",
       "  </thead>\n",
       "  <tbody>\n",
       "    <tr>\n",
       "      <th>1</th>\n",
       "      <td>35</td>\n",
       "      <td>16</td>\n",
       "    </tr>\n",
       "    <tr>\n",
       "      <th>2</th>\n",
       "      <td>28</td>\n",
       "      <td>29</td>\n",
       "    </tr>\n",
       "    <tr>\n",
       "      <th>3</th>\n",
       "      <td>54</td>\n",
       "      <td>90</td>\n",
       "    </tr>\n",
       "    <tr>\n",
       "      <th>4</th>\n",
       "      <td>90</td>\n",
       "      <td>149</td>\n",
       "    </tr>\n",
       "  </tbody>\n",
       "</table>\n",
       "</div>"
      ],
      "text/plain": [
       "Party_voted_for            0    1\n",
       "Standard_of_living_index         \n",
       "1                         35   16\n",
       "2                         28   29\n",
       "3                         54   90\n",
       "4                         90  149"
      ]
     },
     "execution_count": 6,
     "metadata": {},
     "output_type": "execute_result"
    }
   ],
   "source": [
    "pd.crosstab(test['Standard_of_living_index'],test['Party_voted_for'])"
   ]
  },
  {
   "cell_type": "code",
   "execution_count": 7,
   "metadata": {
    "collapsed": false
   },
   "outputs": [
    {
     "data": {
      "text/plain": [
       "count    982.000000\n",
       "mean      32.571283\n",
       "std        8.145749\n",
       "min       16.000000\n",
       "25%       26.000000\n",
       "50%       32.000000\n",
       "75%       38.000000\n",
       "max       49.000000\n",
       "Name: Wife_age, dtype: float64"
      ]
     },
     "execution_count": 7,
     "metadata": {},
     "output_type": "execute_result"
    }
   ],
   "source": [
    "train['Wife_age'].describe()"
   ]
  },
  {
   "cell_type": "code",
   "execution_count": 8,
   "metadata": {
    "collapsed": false
   },
   "outputs": [
    {
     "data": {
      "text/plain": [
       "count    491.000000\n",
       "mean      32.472505\n",
       "std        8.395866\n",
       "min       16.000000\n",
       "25%       25.000000\n",
       "50%       32.000000\n",
       "75%       39.000000\n",
       "max       49.000000\n",
       "Name: Wife_age, dtype: float64"
      ]
     },
     "execution_count": 8,
     "metadata": {},
     "output_type": "execute_result"
    }
   ],
   "source": [
    "test['Wife_age'].describe()"
   ]
  },
  {
   "cell_type": "code",
   "execution_count": 9,
   "metadata": {
    "collapsed": false
   },
   "outputs": [
    {
     "data": {
      "text/plain": [
       "1    0.570265\n",
       "0    0.429735\n",
       "Name: Party_voted_for, dtype: float64"
      ]
     },
     "execution_count": 9,
     "metadata": {},
     "output_type": "execute_result"
    }
   ],
   "source": [
    "train['Party_voted_for'].value_counts()/train.shape[0]"
   ]
  },
  {
   "cell_type": "code",
   "execution_count": 10,
   "metadata": {
    "collapsed": false
   },
   "outputs": [
    {
     "data": {
      "text/plain": [
       "1    0.578411\n",
       "0    0.421589\n",
       "Name: Party_voted_for, dtype: float64"
      ]
     },
     "execution_count": 10,
     "metadata": {},
     "output_type": "execute_result"
    }
   ],
   "source": [
    "test['Party_voted_for'].value_counts()/test.shape[0]"
   ]
  },
  {
   "cell_type": "code",
   "execution_count": 11,
   "metadata": {
    "collapsed": false
   },
   "outputs": [
    {
     "data": {
      "text/plain": [
       "<seaborn.axisgrid.FacetGrid at 0x2177da16160>"
      ]
     },
     "execution_count": 11,
     "metadata": {},
     "output_type": "execute_result"
    },
    {
     "data": {
      "image/png": "[encoded data removed]",
      "text/plain": [
       "<matplotlib.figure.Figure at 0x2177da167f0>"
      ]
     },
     "metadata": {},
     "output_type": "display_data"
    }
   ],
   "source": [
    "g=sns.FacetGrid(train,col='Party_voted_for',size=6)\n",
    "g.map(plt.hist,'Wife_age')"
   ]
  },
  {
   "cell_type": "code",
   "execution_count": 12,
   "metadata": {
    "collapsed": false
   },
   "outputs": [
    {
     "data": {
      "text/plain": [
       "<seaborn.axisgrid.FacetGrid at 0x2177f517940>"
      ]
     },
     "execution_count": 12,
     "metadata": {},
     "output_type": "execute_result"
    },
    {
     "data": {
      "image/png": "[encoded data removed]",
      "text/plain": [
       "<matplotlib.figure.Figure at 0x2177de335c0>"
      ]
     },
     "metadata": {},
     "output_type": "display_data"
    }
   ],
   "source": [
    "g=sns.FacetGrid(train,col='Party_voted_for',size=6)\n",
    "g.map(plt.hist,'Wife_education')"
   ]
  },
  {
   "cell_type": "code",
   "execution_count": 13,
   "metadata": {
    "collapsed": false
   },
   "outputs": [
    {
     "data": {
      "text/plain": [
       "<seaborn.axisgrid.FacetGrid at 0x2177f544ba8>"
      ]
     },
     "execution_count": 13,
     "metadata": {},
     "output_type": "execute_result"
    },
    {
     "data": {
      "image/png": "[encoded data removed]",
      "text/plain": [
       "<matplotlib.figure.Figure at 0x2177f544c88>"
      ]
     },
     "metadata": {},
     "output_type": "display_data"
    }
   ],
   "source": [
    "g=sns.FacetGrid(train,col='Party_voted_for',size=6)\n",
    "g.map(plt.hist,'Husband_education')"
   ]
  },
  {
   "cell_type": "markdown",
   "metadata": {},
   "source": [
    "### Adding New Features"
   ]
  },
  {
   "cell_type": "code",
   "execution_count": 172,
   "metadata": {
    "collapsed": true
   },
   "outputs": [],
   "source": [
    "train['Education']=train['Wife_education']+train['Husband_education']\n",
    "test['Education']=test['Wife_education']+test['Husband_education']"
   ]
  },
  {
   "cell_type": "code",
   "execution_count": 173,
   "metadata": {
    "collapsed": false
   },
   "outputs": [
    {
     "data": {
      "text/html": [
       "<div>\n",
       "<table border=\"1\" class=\"dataframe\">\n",
       "  <thead>\n",
       "    <tr style=\"text-align: right;\">\n",
       "      <th>Party_voted_for</th>\n",
       "      <th>0</th>\n",
       "      <th>1</th>\n",
       "    </tr>\n",
       "    <tr>\n",
       "      <th>Education</th>\n",
       "      <th></th>\n",
       "      <th></th>\n",
       "    </tr>\n",
       "  </thead>\n",
       "  <tbody>\n",
       "    <tr>\n",
       "      <th>2</th>\n",
       "      <td>15</td>\n",
       "      <td>4</td>\n",
       "    </tr>\n",
       "    <tr>\n",
       "      <th>3</th>\n",
       "      <td>30</td>\n",
       "      <td>15</td>\n",
       "    </tr>\n",
       "    <tr>\n",
       "      <th>4</th>\n",
       "      <td>52</td>\n",
       "      <td>44</td>\n",
       "    </tr>\n",
       "    <tr>\n",
       "      <th>5</th>\n",
       "      <td>66</td>\n",
       "      <td>52</td>\n",
       "    </tr>\n",
       "    <tr>\n",
       "      <th>6</th>\n",
       "      <td>77</td>\n",
       "      <td>96</td>\n",
       "    </tr>\n",
       "    <tr>\n",
       "      <th>7</th>\n",
       "      <td>69</td>\n",
       "      <td>102</td>\n",
       "    </tr>\n",
       "    <tr>\n",
       "      <th>8</th>\n",
       "      <td>113</td>\n",
       "      <td>247</td>\n",
       "    </tr>\n",
       "  </tbody>\n",
       "</table>\n",
       "</div>"
      ],
      "text/plain": [
       "Party_voted_for    0    1\n",
       "Education                \n",
       "2                 15    4\n",
       "3                 30   15\n",
       "4                 52   44\n",
       "5                 66   52\n",
       "6                 77   96\n",
       "7                 69  102\n",
       "8                113  247"
      ]
     },
     "execution_count": 173,
     "metadata": {},
     "output_type": "execute_result"
    }
   ],
   "source": [
    "pd.crosstab(train['Education'],train['Party_voted_for'])"
   ]
  },
  {
   "cell_type": "code",
   "execution_count": 174,
   "metadata": {
    "collapsed": false
   },
   "outputs": [
    {
     "data": {
      "text/plain": [
       "Index(['Wife_age', 'Wife_education', 'Husband_education',\n",
       "       'Number_of_children_ever_born', 'Wife_religion', 'Wife_working',\n",
       "       'Husband_occupation', 'Standard_of_living_index', 'Media_exposure',\n",
       "       'Party_voted_for', 'Education'],\n",
       "      dtype='object')"
      ]
     },
     "execution_count": 174,
     "metadata": {},
     "output_type": "execute_result"
    }
   ],
   "source": [
    "train.columns"
   ]
  },
  {
   "cell_type": "code",
   "execution_count": 284,
   "metadata": {
    "collapsed": true
   },
   "outputs": [],
   "source": [
    "from sklearn.linear_model import LogisticRegression\n",
    "from sklearn.tree import DecisionTreeClassifier\n",
    "from sklearn.ensemble import RandomForestClassifier\n",
    "from sklearn.ensemble import GradientBoostingClassifier\n",
    "from sklearn.metrics import f1_score\n",
    "from sklearn import metrics"
   ]
  },
  {
   "cell_type": "code",
   "execution_count": 176,
   "metadata": {
    "collapsed": true
   },
   "outputs": [],
   "source": [
    "features=train.columns[:len(train.columns)-1]\n",
    "target=train.columns[-1]"
   ]
  },
  {
   "cell_type": "code",
   "execution_count": 177,
   "metadata": {
    "collapsed": true
   },
   "outputs": [],
   "source": [
    "features=['Wife_age', 'Wife_education', 'Husband_education',\n",
    "       'Number_of_children_ever_born', 'Wife_religion', 'Wife_working',\n",
    "       'Husband_occupation', 'Standard_of_living_index', 'Media_exposure',\n",
    "       'Education']\n",
    "target=['Party_voted_for']          "
   ]
  },
  {
   "cell_type": "markdown",
   "metadata": {},
   "source": [
    "## Building a Classification Model\n",
    "\n",
    "1. Problems- As for a binary classification model we have a threshhold =0.5 and changing that is a business decision. \n",
    "2. In this case we are concerned to correctly predict the no. of votes received by Culter \n",
    "3. Thus what we want is a lower no. of False Positive Rate(actual 0....predicted 1)\n",
    "4. Thus we can also tweak with the threshold "
   ]
  },
  {
   "cell_type": "code",
   "execution_count": 317,
   "metadata": {
    "collapsed": false
   },
   "outputs": [
    {
     "name": "stderr",
     "output_type": "stream",
     "text": [
      "C:\\Users\\hp\\Anaconda3\\lib\\site-packages\\sklearn\\utils\\validation.py:515: DataConversionWarning: A column-vector y was passed when a 1d array was expected. Please change the shape of y to (n_samples, ), for example using ravel().\n",
      "  y = column_or_1d(y, warn=True)\n"
     ]
    },
    {
     "name": "stdout",
     "output_type": "stream",
     "text": [
      "The f1_score of the model is 0.780031201248\n",
      "The accuracy of the model is 0.71283095723\n"
     ]
    },
    {
     "data": {
      "image/png": "[encoded data removed]",
      "text/plain": [
       "<matplotlib.figure.Figure at 0x2af74bda1d0>"
      ]
     },
     "metadata": {},
     "output_type": "display_data"
    },
    {
     "name": "stdout",
     "output_type": "stream",
     "text": [
      "The auc score of the model is 0.720095937947\n"
     ]
    },
    {
     "data": {
      "image/png": "[encoded data removed]",
      "text/plain": [
       "<matplotlib.figure.Figure at 0x2af75fcb048>"
      ]
     },
     "metadata": {},
     "output_type": "display_data"
    }
   ],
   "source": [
    "lr=LogisticRegression(random_state=11)\n",
    "lr.fit(train[features],train[target])\n",
    "predictions=lr.predict(test[features])\n",
    "prob=lr.predict_proba(test[features])\n",
    "print('The f1_score of the model is',f1_score(predictions,test[target]))\n",
    "print('The accuracy of the model is',metrics.accuracy_score(test[target],predictions))\n",
    "fpr1,tpr1,threshold=metrics.roc_curve(test[target],prob[:,1])\n",
    "plt.plot(fpr1,tpr1)\n",
    "plt.xlabel('FPR')\n",
    "plt.ylabel('TPR')\n",
    "plt.title(\"ROC Curve\")\n",
    "plt.show()\n",
    "print('The auc score of the model is',metrics.roc_auc_score(test[target], prob[:,1]))\n",
    "cm=metrics.confusion_matrix(test[target],predictions)\n",
    "sns.heatmap(cm,square=True,annot=True,fmt='.1f')\n",
    "plt.xlabel('Predicted')\n",
    "plt.ylabel('Actual')\n",
    "plt.show()"
   ]
  },
  {
   "cell_type": "code",
   "execution_count": 318,
   "metadata": {
    "collapsed": false
   },
   "outputs": [
    {
     "name": "stdout",
     "output_type": "stream",
     "text": [
      "The f1_score of the model is 0.78955453149\n",
      "The accuracy of the model is 0.720977596741\n"
     ]
    },
    {
     "data": {
      "image/png": "[encoded data removed]",
      "text/plain": [
       "<matplotlib.figure.Figure at 0x2af760b4320>"
      ]
     },
     "metadata": {},
     "output_type": "display_data"
    },
    {
     "name": "stdout",
     "output_type": "stream",
     "text": [
      "The auc score of the model is 0.703442879499\n"
     ]
    },
    {
     "data": {
      "image/png": "[encoded data removed]",
      "text/plain": [
       "<matplotlib.figure.Figure at 0x2af74dddc18>"
      ]
     },
     "metadata": {},
     "output_type": "display_data"
    }
   ],
   "source": [
    "lr=DecisionTreeClassifier(max_depth=4,random_state=13)\n",
    "lr.fit(train[features],train[target])\n",
    "predictions=lr.predict(test[features])\n",
    "prob=lr.predict_proba(test[features])\n",
    "print('The f1_score of the model is',f1_score(predictions,test[target]))\n",
    "print('The accuracy of the model is',metrics.accuracy_score(test[target],predictions))\n",
    "fpr2,tpr2,threshold=metrics.roc_curve(test[target],prob[:,1])\n",
    "plt.show()\n",
    "plt.plot(fpr2,tpr2)\n",
    "plt.xlabel('FPR')\n",
    "plt.ylabel('TPR')\n",
    "plt.title(\"ROC Curve\")\n",
    "plt.show()\n",
    "print('The auc score of the model is',metrics.roc_auc_score(test[target], prob[:,1]))\n",
    "cm=metrics.confusion_matrix(test[target],predictions)\n",
    "sns.heatmap(cm,square=True,annot=True,fmt='.1f')\n",
    "plt.xlabel('Predicted')\n",
    "plt.ylabel('Actual')\n",
    "plt.show()"
   ]
  },
  {
   "cell_type": "markdown",
   "metadata": {},
   "source": [
    "### Trained Model\n",
    "1. Plotting threshold vs fpr\n",
    "2. Plotting threshold vs tpr\n",
    "3. reducing the no. of false positive cases"
   ]
  },
  {
   "cell_type": "code",
   "execution_count": 319,
   "metadata": {
    "collapsed": false
   },
   "outputs": [
    {
     "name": "stderr",
     "output_type": "stream",
     "text": [
      "C:\\Users\\hp\\Anaconda3\\lib\\site-packages\\ipykernel\\__main__.py:2: DataConversionWarning: A column-vector y was passed when a 1d array was expected. Please change the shape of y to (n_samples,), for example using ravel().\n",
      "  from ipykernel import kernelapp as app\n"
     ]
    },
    {
     "name": "stdout",
     "output_type": "stream",
     "text": [
      "The f1_score of the model is 0.874113475177\n",
      "The accuracy of the model is 0.855397148676\n"
     ]
    },
    {
     "data": {
      "image/png": "[encoded data removed]",
      "text/plain": [
       "<matplotlib.figure.Figure at 0x2af75ef1dd8>"
      ]
     },
     "metadata": {},
     "output_type": "display_data"
    },
    {
     "data": {
      "image/png": "[encoded data removed]",
      "text/plain": [
       "<matplotlib.figure.Figure at 0x2af75ee9828>"
      ]
     },
     "metadata": {},
     "output_type": "display_data"
    },
    {
     "name": "stdout",
     "output_type": "stream",
     "text": [
      "The auc score of the model is 0.934076675694\n"
     ]
    },
    {
     "data": {
      "image/png": "[encoded data removed]",
      "text/plain": [
       "<matplotlib.figure.Figure at 0x2af74d5c780>"
      ]
     },
     "metadata": {},
     "output_type": "display_data"
    }
   ],
   "source": [
    "lr=RandomForestClassifier(max_depth=9,random_state=13)\n",
    "lr.fit(train[features],train[target])\n",
    "predictions=lr.predict(train[features])\n",
    "prob=lr.predict_proba(train[features])\n",
    "predictions=[]\n",
    "for i in prob[:,1]:\n",
    "    if i>=0.615:\n",
    "        predictions.append(1)\n",
    "    else:\n",
    "        predictions.append(0)\n",
    "print('The f1_score of the model is',f1_score(predictions,train[target]))\n",
    "print('The accuracy of the model is',metrics.accuracy_score(train[target],predictions))\n",
    "fpr,tpr,threshold=metrics.roc_curve(train[target],prob[:,1])\n",
    "plt.plot(threshold,fpr,c='r')\n",
    "plt.plot(threshold,tpr,c='g')\n",
    "plt.show()\n",
    "plt.plot(fpr,tpr)\n",
    "plt.xlabel('FPR')\n",
    "plt.ylabel('TPR')\n",
    "plt.title(\"ROC Curve\")\n",
    "plt.show()\n",
    "print('The auc score of the model is',metrics.roc_auc_score(train[target], prob[:,1]))\n",
    "cm=metrics.confusion_matrix(train[target],predictions)\n",
    "sns.heatmap(cm,square=True,annot=True,fmt='.1f')\n",
    "plt.xlabel('Predicted')\n",
    "plt.ylabel('Actual')\n",
    "plt.show()"
   ]
  },
  {
   "cell_type": "markdown",
   "metadata": {},
   "source": [
    "### Predicting the Test Data"
   ]
  },
  {
   "cell_type": "code",
   "execution_count": 322,
   "metadata": {
    "collapsed": false
   },
   "outputs": [
    {
     "name": "stdout",
     "output_type": "stream",
     "text": [
      "The f1_score of the model is 0.724381625442\n",
      "The accuracy of the model is 0.682281059063\n"
     ]
    },
    {
     "data": {
      "image/png": "[encoded data removed]",
      "text/plain": [
       "<matplotlib.figure.Figure at 0x2af74bda828>"
      ]
     },
     "metadata": {},
     "output_type": "display_data"
    },
    {
     "name": "stdout",
     "output_type": "stream",
     "text": [
      "The auc score of the model is 0.741035585494\n"
     ]
    },
    {
     "data": {
      "image/png": "[encoded data removed]",
      "text/plain": [
       "<matplotlib.figure.Figure at 0x2af74ac2c50>"
      ]
     },
     "metadata": {},
     "output_type": "display_data"
    }
   ],
   "source": [
    "predictions=lr.predict(test[features])\n",
    "prob=lr.predict_proba(test[features])\n",
    "predictions=[]\n",
    "for i in prob[:,1]:\n",
    "    if i>=0.6278:\n",
    "        predictions.append(1)\n",
    "    else:\n",
    "        predictions.append(0)\n",
    "print('The f1_score of the model is',f1_score(predictions,test[target]))\n",
    "print('The accuracy of the model is',metrics.accuracy_score(test[target],predictions))\n",
    "fpr3,tpr3,threshold=metrics.roc_curve(test[target],prob[:,1])\n",
    "plt.plot(fpr3,tpr3)\n",
    "plt.xlabel('FPR')\n",
    "plt.ylabel('TPR')\n",
    "plt.title(\"ROC Curve\")\n",
    "plt.show()\n",
    "print('The auc score of the model is',metrics.roc_auc_score(test[target], prob[:,1]))\n",
    "cm=metrics.confusion_matrix(test[target],predictions)\n",
    "sns.heatmap(cm,square=True,annot=True,fmt='.1f')\n",
    "plt.xlabel('Predicted')\n",
    "plt.ylabel('Actual')\n",
    "plt.show()"
   ]
  },
  {
   "cell_type": "markdown",
   "metadata": {},
   "source": [
    "### Part 1: Data manipulation and summary statistics\n",
    "Q1. For the women in the train dataset find the following variables for every category of education.  \n",
    "1.\tCount of people\n",
    "2.\tAverage age\n",
    "3.\tAverage number of children\n",
    "4.\tPercentage of women who are working\n",
    "5.\tPercentage of women who have a high standard of living (Standard_of_living_index = 4)\n",
    "There are 4 categories for Wife_education and 5 variables required, so you should get 20 values. It is advised to represent all the numbers in a single dataframe. \n"
   ]
  },
  {
   "cell_type": "code",
   "execution_count": 282,
   "metadata": {
    "collapsed": false
   },
   "outputs": [
    {
     "data": {
      "text/html": [
       "<div>\n",
       "<table border=\"1\" class=\"dataframe\">\n",
       "  <thead>\n",
       "    <tr style=\"text-align: right;\">\n",
       "      <th></th>\n",
       "      <th>Education_Category</th>\n",
       "      <th>Count</th>\n",
       "      <th>Average_age</th>\n",
       "      <th>Average_children</th>\n",
       "      <th>Percentage_working_women</th>\n",
       "      <th>per_standard_living</th>\n",
       "    </tr>\n",
       "  </thead>\n",
       "  <tbody>\n",
       "    <tr>\n",
       "      <th>0</th>\n",
       "      <td>1</td>\n",
       "      <td>104</td>\n",
       "      <td>38.096154</td>\n",
       "      <td>4.153846</td>\n",
       "      <td>0.759615</td>\n",
       "      <td>0.230769</td>\n",
       "    </tr>\n",
       "    <tr>\n",
       "      <th>1</th>\n",
       "      <td>2</td>\n",
       "      <td>219</td>\n",
       "      <td>31.456621</td>\n",
       "      <td>3.484018</td>\n",
       "      <td>0.762557</td>\n",
       "      <td>0.328767</td>\n",
       "    </tr>\n",
       "    <tr>\n",
       "      <th>2</th>\n",
       "      <td>3</td>\n",
       "      <td>279</td>\n",
       "      <td>30.222222</td>\n",
       "      <td>3.146953</td>\n",
       "      <td>0.784946</td>\n",
       "      <td>0.336918</td>\n",
       "    </tr>\n",
       "    <tr>\n",
       "      <th>3</th>\n",
       "      <td>4</td>\n",
       "      <td>380</td>\n",
       "      <td>33.426316</td>\n",
       "      <td>2.802632</td>\n",
       "      <td>0.694737</td>\n",
       "      <td>0.671053</td>\n",
       "    </tr>\n",
       "  </tbody>\n",
       "</table>\n",
       "</div>"
      ],
      "text/plain": [
       "   Education_Category  Count  Average_age  Average_children  \\\n",
       "0                   1    104    38.096154          4.153846   \n",
       "1                   2    219    31.456621          3.484018   \n",
       "2                   3    279    30.222222          3.146953   \n",
       "3                   4    380    33.426316          2.802632   \n",
       "\n",
       "   Percentage_working_women  per_standard_living  \n",
       "0                  0.759615             0.230769  \n",
       "1                  0.762557             0.328767  \n",
       "2                  0.784946             0.336918  \n",
       "3                  0.694737             0.671053  "
      ]
     },
     "execution_count": 282,
     "metadata": {},
     "output_type": "execute_result"
    }
   ],
   "source": [
    "data_frame=pd.DataFrame(raw_data,columns=['Education_Category','Count','Average_age','Average_children','Percentage_working_women','per_standard_living'])\n",
    "data_frame"
   ]
  },
  {
   "cell_type": "code",
   "execution_count": 205,
   "metadata": {
    "collapsed": false
   },
   "outputs": [
    {
     "data": {
      "text/plain": [
       "4    380\n",
       "3    279\n",
       "2    219\n",
       "1    104\n",
       "Name: Wife_education, dtype: int64"
      ]
     },
     "execution_count": 205,
     "metadata": {},
     "output_type": "execute_result"
    }
   ],
   "source": [
    "train['Wife_education'].value_counts()"
   ]
  },
  {
   "cell_type": "code",
   "execution_count": 269,
   "metadata": {
    "collapsed": false
   },
   "outputs": [],
   "source": [
    "average_age=[]\n",
    "average_children=[]\n",
    "per_working=[]\n",
    "per_standard=[]\n",
    "for i in range(1,5):\n",
    "    average_age.append(train[(train['Wife_education']==i)]['Wife_age'].mean())\n",
    "    average_children.append(train[(train['Wife_education']==i)]['Number_of_children_ever_born'].mean())\n",
    "    per_working.append((train[(train['Wife_education']==i)]['Wife_working']==1).sum()/\n",
    "                       len(train[(train['Wife_education']==i)]))\n",
    "    per_standard.append((train[(train['Wife_education']==i)]['Standard_of_living_index']==4).sum()/\n",
    "                        len(train[train['Wife_education']==i]))\n",
    "   "
   ]
  },
  {
   "cell_type": "code",
   "execution_count": 277,
   "metadata": {
    "collapsed": false
   },
   "outputs": [],
   "source": [
    "raw_data={'Education_Category':[1,2,3,4],'Count':[104,219,279,380],'Average_age':average_age,'Average_children':average_children,\n",
    "          'Percentage_working_women':per_working,'per_standard_living':per_standard}"
   ]
  },
  {
   "cell_type": "code",
   "execution_count": 225,
   "metadata": {
    "collapsed": false
   },
   "outputs": [
    {
     "name": "stdout",
     "output_type": "stream",
     "text": [
      "The mean of age when education category is 1:  38.09615384615385\n",
      "The mean of age when education category is 2:  31.45662100456621\n",
      "The mean of age when education category is 3:  30.22222222222222\n",
      "The mean of age when education category is 4:  33.42631578947368\n"
     ]
    }
   ],
   "source": [
    "print('The mean of age when education category is 1: ',train[(train['Wife_education']==1)]['Wife_age'].mean())\n",
    "print('The mean of age when education category is 2: ',train[(train['Wife_education']==2)]['Wife_age'].mean())\n",
    "print('The mean of age when education category is 3: ',train[(train['Wife_education']==3)]['Wife_age'].mean())\n",
    "print('The mean of age when education category is 4: ',train[(train['Wife_education']==4)]['Wife_age'].mean())"
   ]
  },
  {
   "cell_type": "code",
   "execution_count": 224,
   "metadata": {
    "collapsed": false
   },
   "outputs": [
    {
     "name": "stdout",
     "output_type": "stream",
     "text": [
      "The avereage number of children when education category is 1:  4.153846153846154\n",
      "The avereage number of children when education category is 2:  3.4840182648401825\n",
      "The avereage number of children when education category is 3:  3.1469534050179213\n",
      "The avereage number of children when education category is 4:  2.8026315789473686\n"
     ]
    }
   ],
   "source": [
    "print('The avereage number of children when education category is 1: ',train[(train['Wife_education']==1)]\n",
    "      ['Number_of_children_ever_born'].mean())\n",
    "print('The avereage number of children when education category is 2: ',train[(train['Wife_education']==2)]\n",
    "      ['Number_of_children_ever_born'].mean())\n",
    "print('The avereage number of children when education category is 3: ',train[(train['Wife_education']==3)]\n",
    "      ['Number_of_children_ever_born'].mean())\n",
    "print('The avereage number of children when education category is 4: ',train[(train['Wife_education']==4)]\n",
    "      ['Number_of_children_ever_born'].mean())\n"
   ]
  },
  {
   "cell_type": "code",
   "execution_count": 235,
   "metadata": {
    "collapsed": false
   },
   "outputs": [
    {
     "name": "stdout",
     "output_type": "stream",
     "text": [
      "The percentage of working women for different education category:  0.759615384615\n",
      "The percentage of working women for different education category:  0.762557077626\n",
      "The percentage of working women for different education category:  0.784946236559\n",
      "The percentage of working women for different education category:  0.694736842105\n"
     ]
    }
   ],
   "source": [
    "print('The percentage of working women for different education category: ',(train[(train['Wife_education']==1)]\n",
    "                                                                            ['Wife_working']==1).sum()/train[(train['Wife_education']==1)].shape[0])\n",
    "print('The percentage of working women for different education category: ',(train[(train['Wife_education']==2)]\n",
    "                                                                            ['Wife_working']==1).sum()/train[(train['Wife_education']==2)].shape[0])\n",
    "print('The percentage of working women for different education category: ',(train[(train['Wife_education']==3)]\n",
    "                                                                            ['Wife_working']==1).sum()/train[(train['Wife_education']==3)].shape[0])\n",
    "print('The percentage of working women for different education category: ',(train[(train['Wife_education']==4)]\n",
    "                                                                            ['Wife_working']==1).sum()/train[(train['Wife_education']==4)].shape[0])"
   ]
  },
  {
   "cell_type": "code",
   "execution_count": 264,
   "metadata": {
    "collapsed": false
   },
   "outputs": [
    {
     "name": "stdout",
     "output_type": "stream",
     "text": [
      "The percentage of women who have high standard of living for different education category:  0.230769230769\n",
      "The percentage of women who have high standard of living for different education category:  0.328767123288\n",
      "The percentage of women who have high standard of living for different education category:  0.336917562724\n",
      "The percentage of women who have high standard of living for different education category:  0.671052631579\n"
     ]
    }
   ],
   "source": [
    "print('The percentage of women who have high standard of living for different education category: ',(train[(train['Wife_education']==1)]\n",
    "                                                                                                     ['Standard_of_living_index']==4).sum()/len(train[train['Wife_education']==1]))\n",
    "print('The percentage of women who have high standard of living for different education category: ',(train[(train['Wife_education']==2)]\n",
    "                                                                                                     ['Standard_of_living_index']==4).sum()/train[(train['Wife_education']==2)].shape[0])\n",
    "print('The percentage of women who have high standard of living for different education category: ',(train[(train['Wife_education']==3)]\n",
    "                                                                                                     ['Standard_of_living_index']==4).sum()/train[(train['Wife_education']==3)].shape[0])\n",
    "print('The percentage of women who have high standard of living for different education category: ',(train[(train['Wife_education']==4)]\n",
    "                                                                                                     ['Standard_of_living_index']==4).sum()/train[(train['Wife_education']==4)].shape[0])"
   ]
  },
  {
   "cell_type": "markdown",
   "metadata": {},
   "source": [
    "###  For the 3 models trained in Part 2, create their respective ROC curves and display it on one graph. Specify different colours for each graph for ease in comparison. Which is the best model among the three?"
   ]
  },
  {
   "cell_type": "code",
   "execution_count": 326,
   "metadata": {
    "collapsed": false
   },
   "outputs": [
    {
     "data": {
      "image/png": "[encoded data removed]",
      "text/plain": [
       "<matplotlib.figure.Figure at 0x2af74c2aeb8>"
      ]
     },
     "metadata": {},
     "output_type": "display_data"
    }
   ],
   "source": [
    "plt.plot(fpr1,tpr1,c='g',label='LogisticRegression_ROC',linewidth=2)\n",
    "plt.plot(fpr2,tpr2,c='b',label='DecisionTree_ROC',linewidth=2)\n",
    "plt.plot(fpr3,tpr3,c='r',label='RandomForest_ROC',linewidth=2)\n",
    "plt.legend(bbox_to_anchor=(1.05, 1), loc=2, borderaxespad=0.)\n",
    "plt.show()"
   ]
  },
  {
   "cell_type": "markdown",
   "metadata": {
    "collapsed": true
   },
   "source": [
    "### Random Forest is the best model in this case"
   ]
  },
  {
   "cell_type": "code",
   "execution_count": null,
   "metadata": {
    "collapsed": true
   },
   "outputs": [],
   "source": []
  }
 ],
 "metadata": {
  "kernelspec": {
   "display_name": "Python [Root]",
   "language": "python",
   "name": "Python [Root]"
  },
  "language_info": {
   "codemirror_mode": {
    "name": "ipython",
    "version": 3
   },
   "file_extension": ".py",
   "mimetype": "text/x-python",
   "name": "python",
   "nbconvert_exporter": "python",
   "pygments_lexer": "ipython3",
   "version": "3.5.1"
  }
 },
 "nbformat": 4,
 "nbformat_minor": 0
}
